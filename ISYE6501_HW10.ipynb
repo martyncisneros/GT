{
 "cells": [
  {
   "cell_type": "markdown",
   "metadata": {},
   "source": [
    "<h1 align=\"center\"> ISYE 6501- Introduction to Analytics Modeling\n",
    "<h2 align=\"center\"> Week 10 HW - Missing Data and Optimization (Question 15.2)\n",
    "<h3 align=\"center\"> by: Martin Cisneros"
   ]
  },
  {
   "cell_type": "markdown",
   "metadata": {},
   "source": [
    "# Contents  \n",
    "   \n",
    "[Introduction](#intro)  \n",
    "\n",
    "[Simple optimization model: Part One](#model1)\n",
    "\n",
    "[Full optimization model with added constraints: Part Two](#model2)\n",
    "\n",
    "[TLDR; Results](#results) \n"
   ]
  },
  {
   "cell_type": "markdown",
   "metadata": {},
   "source": [
    "<a id='intro'></a>\n",
    "# Introduction\n",
    "\n",
    "In the videos, we saw the “diet problem”. (The diet problem is one of the first large-scale optimization problems to be studied in practice. Back in the 1930’s and 40’s, the Army wanted to meet the nutritional requirements of its soldiers while minimizing the cost.) In this homework you get to solve a diet problem with real data. The data is given in the file diet.xls.\n",
    "\n",
    "- Part One: Formulate an optimization model (a linear program) to find the cheapest diet that satisfies the maximum and minimum daily nutrition constraints, and solve it using PuLP. Turn in your code and the solution. (The optimal solution should be a diet of air-popped popcorn, poached eggs, oranges, raw iceberg lettuce, raw celery, and frozen broccoli. UGH!)\n",
    "- Part Two: Please add to your model the following constraints (which might require adding more variables) and solve the new model:\n",
    "  \n",
    "        a. If a food is selected, then a minimum of 1/10 serving must be chosen. (Hint: now you will need two variables for each food i: whether it is chosen, and how much is part of the diet. You’ll also need to write a constraint to link them.)\n",
    "  \n",
    "        b. Many people dislike celery and frozen broccoli. So at most one, but not both, can be selected.\n",
    "\n",
    "        c. To get day-to-day variety in protein, at least 3 kinds of meat/poultry/fish/eggs must be selected. {If something is ambiguous (e.g., should bean-and-bacon soup be considered meat?), just call it whatever you think is appropriate – I want you to learn how to write this type of constraint, but I don’t really care whether we agree on how to classify foods!}\n",
    "\n",
    "If you want to see what a more full-sized problem would look like, try solving your models for the file dietlarge.xls, which is a low-cholesterol diet model (rather than minimizing cost, the goal is to minimize cholesterol intake). I don’t know anyone who’d want to eat this diet, the optimal solution includes dried chrysanthemum garland, raw beluga whale flipper, freeze-dried parsley, etc. which shows why it’s necessary to add additional constraints beyond the basic ones we saw in the video!\n"
   ]
  },
  {
   "cell_type": "markdown",
   "metadata": {},
   "source": [
    "<a id='model1'></a>\n",
    "# Simple optimization model: Part One"
   ]
  },
  {
   "cell_type": "markdown",
   "metadata": {},
   "source": [
    "<a id='libs1'></a>\n",
    "### Import Libraries"
   ]
  },
  {
   "cell_type": "code",
   "execution_count": 243,
   "metadata": {},
   "outputs": [],
   "source": [
    "from pulp import *\n",
    "import pandas as pd"
   ]
  },
  {
   "cell_type": "markdown",
   "metadata": {},
   "source": [
    "###  Retrieve Data"
   ]
  },
  {
   "cell_type": "code",
   "execution_count": 244,
   "metadata": {},
   "outputs": [
    {
     "data": {
      "text/html": [
       "<div>\n",
       "<style scoped>\n",
       "    .dataframe tbody tr th:only-of-type {\n",
       "        vertical-align: middle;\n",
       "    }\n",
       "\n",
       "    .dataframe tbody tr th {\n",
       "        vertical-align: top;\n",
       "    }\n",
       "\n",
       "    .dataframe thead th {\n",
       "        text-align: right;\n",
       "    }\n",
       "</style>\n",
       "<table border=\"1\" class=\"dataframe\">\n",
       "  <thead>\n",
       "    <tr style=\"text-align: right;\">\n",
       "      <th></th>\n",
       "      <th>Foods</th>\n",
       "      <th>Price/ Serving</th>\n",
       "      <th>Serving Size</th>\n",
       "      <th>Calories</th>\n",
       "      <th>Cholesterol mg</th>\n",
       "      <th>Total_Fat g</th>\n",
       "      <th>Sodium mg</th>\n",
       "      <th>Carbohydrates g</th>\n",
       "      <th>Dietary_Fiber g</th>\n",
       "      <th>Protein g</th>\n",
       "      <th>Vit_A IU</th>\n",
       "      <th>Vit_C IU</th>\n",
       "      <th>Calcium mg</th>\n",
       "      <th>Iron mg</th>\n",
       "    </tr>\n",
       "  </thead>\n",
       "  <tbody>\n",
       "    <tr>\n",
       "      <th>0</th>\n",
       "      <td>Frozen Broccoli</td>\n",
       "      <td>0.16</td>\n",
       "      <td>10 Oz Pkg</td>\n",
       "      <td>73.8</td>\n",
       "      <td>0.0</td>\n",
       "      <td>0.8</td>\n",
       "      <td>68.2</td>\n",
       "      <td>13.6</td>\n",
       "      <td>8.5</td>\n",
       "      <td>8.0</td>\n",
       "      <td>5867.4</td>\n",
       "      <td>160.2</td>\n",
       "      <td>159.0</td>\n",
       "      <td>2.3</td>\n",
       "    </tr>\n",
       "    <tr>\n",
       "      <th>1</th>\n",
       "      <td>Carrots,Raw</td>\n",
       "      <td>0.07</td>\n",
       "      <td>1/2 Cup Shredded</td>\n",
       "      <td>23.7</td>\n",
       "      <td>0.0</td>\n",
       "      <td>0.1</td>\n",
       "      <td>19.2</td>\n",
       "      <td>5.6</td>\n",
       "      <td>1.6</td>\n",
       "      <td>0.6</td>\n",
       "      <td>15471.0</td>\n",
       "      <td>5.1</td>\n",
       "      <td>14.9</td>\n",
       "      <td>0.3</td>\n",
       "    </tr>\n",
       "    <tr>\n",
       "      <th>2</th>\n",
       "      <td>Celery, Raw</td>\n",
       "      <td>0.04</td>\n",
       "      <td>1 Stalk</td>\n",
       "      <td>6.4</td>\n",
       "      <td>0.0</td>\n",
       "      <td>0.1</td>\n",
       "      <td>34.8</td>\n",
       "      <td>1.5</td>\n",
       "      <td>0.7</td>\n",
       "      <td>0.3</td>\n",
       "      <td>53.6</td>\n",
       "      <td>2.8</td>\n",
       "      <td>16.0</td>\n",
       "      <td>0.2</td>\n",
       "    </tr>\n",
       "    <tr>\n",
       "      <th>3</th>\n",
       "      <td>Frozen Corn</td>\n",
       "      <td>0.18</td>\n",
       "      <td>1/2 Cup</td>\n",
       "      <td>72.2</td>\n",
       "      <td>0.0</td>\n",
       "      <td>0.6</td>\n",
       "      <td>2.5</td>\n",
       "      <td>17.1</td>\n",
       "      <td>2.0</td>\n",
       "      <td>2.5</td>\n",
       "      <td>106.6</td>\n",
       "      <td>5.2</td>\n",
       "      <td>3.3</td>\n",
       "      <td>0.3</td>\n",
       "    </tr>\n",
       "    <tr>\n",
       "      <th>4</th>\n",
       "      <td>Lettuce,Iceberg,Raw</td>\n",
       "      <td>0.02</td>\n",
       "      <td>1 Leaf</td>\n",
       "      <td>2.6</td>\n",
       "      <td>0.0</td>\n",
       "      <td>0.0</td>\n",
       "      <td>1.8</td>\n",
       "      <td>0.4</td>\n",
       "      <td>0.3</td>\n",
       "      <td>0.2</td>\n",
       "      <td>66.0</td>\n",
       "      <td>0.8</td>\n",
       "      <td>3.8</td>\n",
       "      <td>0.1</td>\n",
       "    </tr>\n",
       "  </tbody>\n",
       "</table>\n",
       "</div>"
      ],
      "text/plain": [
       "                 Foods  Price/ Serving      Serving Size  Calories  \\\n",
       "0      Frozen Broccoli            0.16         10 Oz Pkg      73.8   \n",
       "1          Carrots,Raw            0.07  1/2 Cup Shredded      23.7   \n",
       "2          Celery, Raw            0.04           1 Stalk       6.4   \n",
       "3          Frozen Corn            0.18           1/2 Cup      72.2   \n",
       "4  Lettuce,Iceberg,Raw            0.02            1 Leaf       2.6   \n",
       "\n",
       "   Cholesterol mg  Total_Fat g  Sodium mg  Carbohydrates g  Dietary_Fiber g  \\\n",
       "0             0.0          0.8       68.2             13.6              8.5   \n",
       "1             0.0          0.1       19.2              5.6              1.6   \n",
       "2             0.0          0.1       34.8              1.5              0.7   \n",
       "3             0.0          0.6        2.5             17.1              2.0   \n",
       "4             0.0          0.0        1.8              0.4              0.3   \n",
       "\n",
       "   Protein g  Vit_A IU  Vit_C IU  Calcium mg  Iron mg  \n",
       "0        8.0    5867.4     160.2       159.0      2.3  \n",
       "1        0.6   15471.0       5.1        14.9      0.3  \n",
       "2        0.3      53.6       2.8        16.0      0.2  \n",
       "3        2.5     106.6       5.2         3.3      0.3  \n",
       "4        0.2      66.0       0.8         3.8      0.1  "
      ]
     },
     "execution_count": 244,
     "metadata": {},
     "output_type": "execute_result"
    }
   ],
   "source": [
    "data = pd.read_excel(\"diet.xls\", header = 0) \n",
    "\n",
    "data.head()"
   ]
  },
  {
   "cell_type": "code",
   "execution_count": 245,
   "metadata": {},
   "outputs": [
    {
     "data": {
      "text/html": [
       "<div>\n",
       "<style scoped>\n",
       "    .dataframe tbody tr th:only-of-type {\n",
       "        vertical-align: middle;\n",
       "    }\n",
       "\n",
       "    .dataframe tbody tr th {\n",
       "        vertical-align: top;\n",
       "    }\n",
       "\n",
       "    .dataframe thead th {\n",
       "        text-align: right;\n",
       "    }\n",
       "</style>\n",
       "<table border=\"1\" class=\"dataframe\">\n",
       "  <thead>\n",
       "    <tr style=\"text-align: right;\">\n",
       "      <th></th>\n",
       "      <th>Foods</th>\n",
       "      <th>Price/ Serving</th>\n",
       "      <th>Serving Size</th>\n",
       "      <th>Calories</th>\n",
       "      <th>Cholesterol mg</th>\n",
       "      <th>Total_Fat g</th>\n",
       "      <th>Sodium mg</th>\n",
       "      <th>Carbohydrates g</th>\n",
       "      <th>Dietary_Fiber g</th>\n",
       "      <th>Protein g</th>\n",
       "      <th>Vit_A IU</th>\n",
       "      <th>Vit_C IU</th>\n",
       "      <th>Calcium mg</th>\n",
       "      <th>Iron mg</th>\n",
       "    </tr>\n",
       "  </thead>\n",
       "  <tbody>\n",
       "    <tr>\n",
       "      <th>0</th>\n",
       "      <td>Frozen Broccoli</td>\n",
       "      <td>0.16</td>\n",
       "      <td>10 Oz Pkg</td>\n",
       "      <td>73.8</td>\n",
       "      <td>0.0</td>\n",
       "      <td>0.8</td>\n",
       "      <td>68.2</td>\n",
       "      <td>13.6</td>\n",
       "      <td>8.5</td>\n",
       "      <td>8.0</td>\n",
       "      <td>5867.4</td>\n",
       "      <td>160.2</td>\n",
       "      <td>159.0</td>\n",
       "      <td>2.3</td>\n",
       "    </tr>\n",
       "    <tr>\n",
       "      <th>1</th>\n",
       "      <td>Carrots,Raw</td>\n",
       "      <td>0.07</td>\n",
       "      <td>1/2 Cup Shredded</td>\n",
       "      <td>23.7</td>\n",
       "      <td>0.0</td>\n",
       "      <td>0.1</td>\n",
       "      <td>19.2</td>\n",
       "      <td>5.6</td>\n",
       "      <td>1.6</td>\n",
       "      <td>0.6</td>\n",
       "      <td>15471.0</td>\n",
       "      <td>5.1</td>\n",
       "      <td>14.9</td>\n",
       "      <td>0.3</td>\n",
       "    </tr>\n",
       "    <tr>\n",
       "      <th>2</th>\n",
       "      <td>Celery, Raw</td>\n",
       "      <td>0.04</td>\n",
       "      <td>1 Stalk</td>\n",
       "      <td>6.4</td>\n",
       "      <td>0.0</td>\n",
       "      <td>0.1</td>\n",
       "      <td>34.8</td>\n",
       "      <td>1.5</td>\n",
       "      <td>0.7</td>\n",
       "      <td>0.3</td>\n",
       "      <td>53.6</td>\n",
       "      <td>2.8</td>\n",
       "      <td>16.0</td>\n",
       "      <td>0.2</td>\n",
       "    </tr>\n",
       "    <tr>\n",
       "      <th>3</th>\n",
       "      <td>Frozen Corn</td>\n",
       "      <td>0.18</td>\n",
       "      <td>1/2 Cup</td>\n",
       "      <td>72.2</td>\n",
       "      <td>0.0</td>\n",
       "      <td>0.6</td>\n",
       "      <td>2.5</td>\n",
       "      <td>17.1</td>\n",
       "      <td>2.0</td>\n",
       "      <td>2.5</td>\n",
       "      <td>106.6</td>\n",
       "      <td>5.2</td>\n",
       "      <td>3.3</td>\n",
       "      <td>0.3</td>\n",
       "    </tr>\n",
       "    <tr>\n",
       "      <th>4</th>\n",
       "      <td>Lettuce,Iceberg,Raw</td>\n",
       "      <td>0.02</td>\n",
       "      <td>1 Leaf</td>\n",
       "      <td>2.6</td>\n",
       "      <td>0.0</td>\n",
       "      <td>0.0</td>\n",
       "      <td>1.8</td>\n",
       "      <td>0.4</td>\n",
       "      <td>0.3</td>\n",
       "      <td>0.2</td>\n",
       "      <td>66.0</td>\n",
       "      <td>0.8</td>\n",
       "      <td>3.8</td>\n",
       "      <td>0.1</td>\n",
       "    </tr>\n",
       "  </tbody>\n",
       "</table>\n",
       "</div>"
      ],
      "text/plain": [
       "                 Foods  Price/ Serving      Serving Size  Calories  \\\n",
       "0      Frozen Broccoli            0.16         10 Oz Pkg      73.8   \n",
       "1          Carrots,Raw            0.07  1/2 Cup Shredded      23.7   \n",
       "2          Celery, Raw            0.04           1 Stalk       6.4   \n",
       "3          Frozen Corn            0.18           1/2 Cup      72.2   \n",
       "4  Lettuce,Iceberg,Raw            0.02            1 Leaf       2.6   \n",
       "\n",
       "   Cholesterol mg  Total_Fat g  Sodium mg  Carbohydrates g  Dietary_Fiber g  \\\n",
       "0             0.0          0.8       68.2             13.6              8.5   \n",
       "1             0.0          0.1       19.2              5.6              1.6   \n",
       "2             0.0          0.1       34.8              1.5              0.7   \n",
       "3             0.0          0.6        2.5             17.1              2.0   \n",
       "4             0.0          0.0        1.8              0.4              0.3   \n",
       "\n",
       "   Protein g  Vit_A IU  Vit_C IU  Calcium mg  Iron mg  \n",
       "0        8.0    5867.4     160.2       159.0      2.3  \n",
       "1        0.6   15471.0       5.1        14.9      0.3  \n",
       "2        0.3      53.6       2.8        16.0      0.2  \n",
       "3        2.5     106.6       5.2         3.3      0.3  \n",
       "4        0.2      66.0       0.8         3.8      0.1  "
      ]
     },
     "execution_count": 245,
     "metadata": {},
     "output_type": "execute_result"
    }
   ],
   "source": [
    "# Create data table\n",
    "dataTable = data[0:64] \n",
    "dataTable.head()"
   ]
  },
  {
   "cell_type": "code",
   "execution_count": 246,
   "metadata": {},
   "outputs": [
    {
     "data": {
      "text/plain": [
       "['Foods',\n",
       " 'Price/ Serving',\n",
       " 'Serving Size',\n",
       " 'Calories',\n",
       " 'Cholesterol mg',\n",
       " 'Total_Fat g',\n",
       " 'Sodium mg',\n",
       " 'Carbohydrates g',\n",
       " 'Dietary_Fiber g',\n",
       " 'Protein g',\n",
       " 'Vit_A IU',\n",
       " 'Vit_C IU',\n",
       " 'Calcium mg',\n",
       " 'Iron mg']"
      ]
     },
     "execution_count": 246,
     "metadata": {},
     "output_type": "execute_result"
    }
   ],
   "source": [
    "# Create list to pull column names\n",
    "dataTable = dataTable.values.tolist() \n",
    "columnNames = list(data.columns.values) \n",
    "columnNames"
   ]
  },
  {
   "cell_type": "markdown",
   "metadata": {},
   "source": [
    "Nutrients are columns 3 to 13"
   ]
  },
  {
   "cell_type": "code",
   "execution_count": 247,
   "metadata": {},
   "outputs": [],
   "source": [
    "# min and max nutrient values\n",
    "minvalue = data[65:66].values.tolist() \n",
    "maxvalue = data[66:67].values.tolist() "
   ]
  },
  {
   "cell_type": "markdown",
   "metadata": {},
   "source": [
    "### Create relevant vectors"
   ]
  },
  {
   "cell_type": "code",
   "execution_count": 248,
   "metadata": {},
   "outputs": [],
   "source": [
    "foods = [j[0] for j in dataTable] \n",
    "cost = dict([(j[0], float(j[1])) for j in dataTable]) \n",
    "nutrients = []\n",
    "for i in range(0,11): \n",
    "    nutrients.append(dict([(j[0], float(j[i+3])) for j in dataTable])) # only pull nutrients"
   ]
  },
  {
   "cell_type": "markdown",
   "metadata": {},
   "source": [
    "### Create LP Problem\n",
    "\n",
    "This problem is a minimization problem to find the lowest cost; ie. need LpMinimize."
   ]
  },
  {
   "cell_type": "code",
   "execution_count": 249,
   "metadata": {},
   "outputs": [],
   "source": [
    "prob = LpProblem('Food optimization', LpMinimize)"
   ]
  },
  {
   "cell_type": "markdown",
   "metadata": {},
   "source": [
    "### Define variables\n",
    "\n",
    "Lower limit of each variable is 0, since we can't eat negative amounts of anything."
   ]
  },
  {
   "cell_type": "code",
   "execution_count": 250,
   "metadata": {},
   "outputs": [],
   "source": [
    "foodVars = LpVariable.dicts(\"Foods\", foods, 0)"
   ]
  },
  {
   "cell_type": "markdown",
   "metadata": {
    "collapsed": true
   },
   "source": [
    "### Create objective function\n",
    "\n",
    "Note that the first function we add is taken to be the objective function"
   ]
  },
  {
   "cell_type": "code",
   "execution_count": 251,
   "metadata": {},
   "outputs": [],
   "source": [
    "prob += lpSum([cost[f] * foodVars[f] for f in foods]), 'Total Cost'"
   ]
  },
  {
   "cell_type": "markdown",
   "metadata": {
    "collapsed": true
   },
   "source": [
    "### Add constraints for each nutrient"
   ]
  },
  {
   "cell_type": "code",
   "execution_count": 252,
   "metadata": {},
   "outputs": [],
   "source": [
    "for i in range(0,11): # for loop running through each nutrient: 11 times starting with 0\n",
    "    prob += lpSum([nutrients[i][j] * foodVars[j] for j in foods]) >= minvalue[0][i+3], 'min nutrient ' + columnNames[i]\n",
    "    prob += lpSum([nutrients[i][j] * foodVars[j] for j in foods]) <= maxvalue[0][i+3], 'max nutrient ' + columnNames[i]"
   ]
  },
  {
   "cell_type": "markdown",
   "metadata": {},
   "source": [
    "### Solve the simple optimization problem"
   ]
  },
  {
   "cell_type": "code",
   "execution_count": 253,
   "metadata": {},
   "outputs": [
    {
     "name": "stdout",
     "output_type": "stream",
     "text": [
      "\n",
      "Solution:\n",
      "\n",
      "52.64371 units of Celery,_Raw\n",
      "0.25960653 units of Frozen_Broccoli\n",
      "63.988506 units of Lettuce,Iceberg,Raw\n",
      "2.2929389 units of Oranges\n",
      "0.14184397 units of Poached_Eggs\n",
      "13.869322 units of Popcorn,Air_Popped\n",
      "\n",
      "Cost of food = $4.34\n"
     ]
    }
   ],
   "source": [
    "prob.solve()\n",
    "\n",
    "print()\n",
    "print(\"Solution:\")\n",
    "print()\n",
    "for var in prob.variables():\n",
    "    if var.varValue > 0:\n",
    "        print(str(var.varValue)+\" units of \"+str(var).replace('Foods_','') )\n",
    "print()\n",
    "print(\"Cost of food = $%.2f\" % value(prob.objective)) "
   ]
  },
  {
   "cell_type": "markdown",
   "metadata": {},
   "source": [
    "<a id='model2'></a>\n",
    "# Full optimization model with added constraints: Part Two"
   ]
  },
  {
   "cell_type": "markdown",
   "metadata": {},
   "source": [
    "### Add additional variables\n",
    "\n",
    "1. Create binary integer variables for whether a food is eaten\n",
    "2. We can't eat negative amounts of anything"
   ]
  },
  {
   "cell_type": "code",
   "execution_count": 254,
   "metadata": {},
   "outputs": [],
   "source": [
    "foodie = LpVariable.dicts(\"foods\", foods, 0)\n",
    "foodie_bool = LpVariable.dicts(\"foodies\",foods,0,1,LpBinary) "
   ]
  },
  {
   "cell_type": "markdown",
   "metadata": {},
   "source": [
    "### Create objective function\n",
    "\n",
    "I am okay with re-writing the previous objective since I've recorded Part one results. I am re-using the previously set 'prob'"
   ]
  },
  {
   "cell_type": "code",
   "execution_count": 255,
   "metadata": {},
   "outputs": [
    {
     "name": "stderr",
     "output_type": "stream",
     "text": [
      "/Users/mcisneros/anaconda3/lib/python3.6/site-packages/pulp/pulp.py:1348: UserWarning: Overwriting previously set objective.\n",
      "  warnings.warn(\"Overwriting previously set objective.\")\n"
     ]
    }
   ],
   "source": [
    "prob += lpSum([cost[f] * foodie[f] for f in foods]), 'Total Cost'"
   ]
  },
  {
   "cell_type": "markdown",
   "metadata": {},
   "source": [
    "### Add constraints for each nutrient"
   ]
  },
  {
   "cell_type": "code",
   "execution_count": 256,
   "metadata": {},
   "outputs": [],
   "source": [
    "for i in range(0,11): \n",
    "    prob += lpSum([nutrients[i][j] * foodie[j] for j in foods]) >= minvalue[0][i+3], 'min nutrient 2' + columnNames[i]\n",
    "    prob += lpSum([nutrients[i][j] * foodie[j] for j in foods]) <= maxvalue[0][i+3], 'max nutrient 2' + columnNames[i]\n",
    "    "
   ]
  },
  {
   "cell_type": "markdown",
   "metadata": {},
   "source": [
    "### Add additional constraints\n",
    "\n",
    "1. If a food is selected, then a minimum of 1/10 serving must be chosen. (Hint: now you will need two variables for each food i: whether it is chosen, and how much is part of the diet. You’ll also need to write a constraint to link them.)\n",
    "\n",
    "2. Many people dislike celery and frozen broccoli. So at most one, but not both, can be selected.\n",
    "\n",
    "3. To get day-to-day variety in protein, at least 3 kinds of meat/poultry/fish/eggs must be selected. {If something is ambiguous (e.g., should bean-and-bacon soup be considered meat?), just call it whatever you think is appropriate – I want you to learn how to write this type of constraint, but I don’t really care whether we agree on how to classify foods!}"
   ]
  },
  {
   "cell_type": "markdown",
   "metadata": {},
   "source": [
    "- 'Bologna,Turkey': Foods_Bologna,Turkey,\n",
    "- 'Chicknoodl Soup': Foods_Chicknoodl_Soup,\n",
    "- 'Frankfurter, Beef': Foods_Frankfurter,_Beef,\n",
    "- 'Ham,Sliced,Extralean': Foods_Ham,Sliced,Extralean,\n",
    "- 'Hamburger W/Toppings': Foods_Hamburger_W_Toppings,\n",
    "- 'Hotdog, Plain': Foods_Hotdog,_Plain,\n",
    "- 'Pizza W/Pepperoni': Foods_Pizza_W_Pepperoni,\n",
    "- 'Pork': Foods_Pork,\n",
    "- 'Roasted Chicken': Foods_Roasted_Chicken,\n",
    "- 'Sardines in Oil': Foods_Sardines_in_Oil,\n",
    "- 'Taco': Foods_Taco,\n",
    "- 'Tofu': Foods_Tofu,\n",
    "- 'White Tuna in Water': Foods_White_Tuna_in_Water}"
   ]
  },
  {
   "cell_type": "code",
   "execution_count": 257,
   "metadata": {},
   "outputs": [],
   "source": [
    "# If a food is eaten, must eat at least 0.1 units\n",
    "\n",
    "for food in foods:\n",
    "    prob += foodie[food] >= 0.1 * foodie_bool[food]\n",
    "\n",
    "# If any of a food is eaten, must ensure it's binary variable must be 1\n",
    "\n",
    "for food in foods:\n",
    "    prob += foodie_bool[food] >= foodie[food]*0.0000001 \n",
    "\n",
    "# At most one, but not both, can be selected (celery or frozen broccoli)\n",
    "\n",
    "prob += foodie_bool['Frozen Broccoli'] + foodie_bool['Celery, Raw'] <= 1 \n",
    "\n",
    "# at least 3 kinds of meat/poultry/fish/eggs (see above)\n",
    "\n",
    "prob += foodie_bool['Bologna,Turkey'] + foodie_bool['Chicknoodl Soup'] \\\n",
    "        + foodie_bool['Frankfurter, Beef'] + foodie_bool['Ham,Sliced,Extralean'] \\\n",
    "        + foodie_bool['Hamburger W/Toppings'] + foodie_bool['Hotdog, Plain'] \\\n",
    "        + foodie_bool['Pizza W/Pepperoni'] + foodie_bool['Pork'] \\\n",
    "        + foodie_bool['Roasted Chicken'] \\\n",
    "        + foodie_bool['Sardines in Oil'] + foodie_bool['Taco'] \\\n",
    "        + foodie_bool['Tofu'] + foodie_bool['White Tuna in Water'] >= 3\n"
   ]
  },
  {
   "cell_type": "markdown",
   "metadata": {},
   "source": [
    "### Solve the full optimization problem"
   ]
  },
  {
   "cell_type": "code",
   "execution_count": 258,
   "metadata": {},
   "outputs": [
    {
     "name": "stdout",
     "output_type": "stream",
     "text": [
      "\n",
      "Solution:\n",
      "13.243507 units of Foods_Apple,Raw,W_Skin\n",
      "51.801956 units of Foods_Celery,_Raw\n",
      "1.0694444 units of Foods_Kiwifruit,Raw,Fresh\n",
      "88.139375 units of Foods_Lettuce,Iceberg,Raw\n",
      "0.13024476 units of Foods_Poached_Eggs\n",
      "1.9710008 units of Foods_Popcorn,Air_Popped\n",
      "0.01888555 units of Foods_Roasted_Chicken\n",
      "1.4571319 units of Foods_Tofu\n",
      "0.1 units of _Bologna,Turkey\n",
      "41.86398 units of _Celery,_Raw\n",
      "0.1 units of _Frankfurter,_Beef\n",
      "83.547931 units of _Lettuce,Iceberg,Raw\n",
      "3.0825324 units of _Oranges\n",
      "1.8656401 units of _Peanut_Butter\n",
      "0.11560284 units of _Poached_Eggs\n",
      "13.2598 units of _Popcorn,Air_Popped\n",
      "0.1 units of _Tofu\n",
      "\n",
      "Cost of food = $4.55\n"
     ]
    }
   ],
   "source": [
    "prob.solve()\n",
    "\n",
    "print()\n",
    "print(\"Solution:\")\n",
    "for var in prob.variables():\n",
    "    if var.varValue > 0 and \"foodies\" not in var.name: # Print non binary variables\n",
    "        print(str(var.varValue)+\" units of \"+str(var).replace('foods','') )\n",
    "print()\n",
    "print(\"Cost of food = $%.2f\" % value(prob.objective)) "
   ]
  },
  {
   "cell_type": "markdown",
   "metadata": {},
   "source": [
    "<a id='results'></a>\n",
    "# TLDR; Results"
   ]
  },
  {
   "cell_type": "markdown",
   "metadata": {},
   "source": [
    "Simple optimization model: Part One \n",
    "\n",
    "- 52.64371 units of raw celery\n",
    "- 0.25960653 units of frozen broccoli\n",
    "- 63.988506 units of raw iceberg lettuce\n",
    "- 2.2929389 units of oranges\n",
    "- 0.14184397 units of poached eggs\n",
    "- 13.869322 units of air-popped popcorn\n",
    "\n",
    "Cost of food = _$4.34_\n",
    "\n",
    "Full optimization model with added constraints: Part Two\n",
    "\n",
    "- 13.243507 units of Foods_Apple,Raw,W_Skin\n",
    "- 51.801956 units of Foods_Celery,_Raw\n",
    "- 1.0694444 units of Foods_Kiwifruit,Raw,Fresh\n",
    "- 88.139375 units of Foods_Lettuce,Iceberg,Raw\n",
    "- 0.13024476 units of Foods_Poached_Eggs\n",
    "- 1.9710008 units of Foods_Popcorn,Air_Popped\n",
    "- 0.01888555 units of Foods_Roasted_Chicken\n",
    "- 1.4571319 units of Foods_Tofu\n",
    "- 0.1 units of _Bologna,Turkey\n",
    "- 41.86398 units of _Celery,_Raw\n",
    "- 0.1 units of _Frankfurter,_Beef\n",
    "- 83.547931 units of _Lettuce,Iceberg,Raw\n",
    "- 3.0825324 units of _Oranges\n",
    "- 1.8656401 units of _Peanut_Butter\n",
    "- 0.11560284 units of _Poached_Eggs\n",
    "- 13.2598 units of _Popcorn,Air_Popped\n",
    "- 0.1 units of _Tofu\n",
    "\n",
    "Cost of food = _$4.55_\n",
    "\n",
    "\n"
   ]
  },
  {
   "cell_type": "code",
   "execution_count": null,
   "metadata": {},
   "outputs": [],
   "source": []
  }
 ],
 "metadata": {
  "anaconda-cloud": {},
  "kernelspec": {
   "display_name": "Python 3",
   "language": "python",
   "name": "python3"
  },
  "language_info": {
   "codemirror_mode": {
    "name": "ipython",
    "version": 3
   },
   "file_extension": ".py",
   "mimetype": "text/x-python",
   "name": "python",
   "nbconvert_exporter": "python",
   "pygments_lexer": "ipython3",
   "version": "3.6.4"
  }
 },
 "nbformat": 4,
 "nbformat_minor": 1
}
